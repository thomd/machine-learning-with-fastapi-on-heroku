{
 "cells": [
  {
   "cell_type": "markdown",
   "id": "240516ee-853f-4d5d-b831-2c07ac831f28",
   "metadata": {},
   "source": [
    "# Train Prediction Model"
   ]
  },
  {
   "cell_type": "code",
   "execution_count": 1,
   "id": "c2bef5f4-93c2-4ef1-ace5-4a18dbeb4337",
   "metadata": {},
   "outputs": [
    {
     "name": "stdout",
     "output_type": "stream",
     "text": [
      "Python implementation: CPython\n",
      "Python version       : 3.10.0\n",
      "IPython version      : 7.29.0\n",
      "\n",
      "sklearn : 1.0.1\n",
      "imblearn: 0.8.1\n",
      "pandas  : 1.3.4\n",
      "numpy   : 1.21.4\n",
      "\n"
     ]
    }
   ],
   "source": [
    "%load_ext watermark\n",
    "%watermark -v -d -p sklearn,imblearn,pandas,numpy"
   ]
  },
  {
   "cell_type": "code",
   "execution_count": 2,
   "id": "69f3775f-827e-4abf-a8bc-4974c615a9d5",
   "metadata": {},
   "outputs": [],
   "source": [
    "import pandas as pd\n",
    "import numpy as np\n",
    "import seaborn as sns\n",
    "from imblearn.combine import SMOTETomek\n",
    "from sklearn.model_selection import train_test_split,cross_val_score,RandomizedSearchCV\n",
    "from sklearn.ensemble import RandomForestClassifier\n",
    "from sklearn.metrics import confusion_matrix, classification_report\n",
    "from sklearn import metrics\n",
    "import pickle\n",
    "\n",
    "import matplotlib.pyplot as plt\n",
    "import seaborn as sns\n",
    "import plothelper as ph\n",
    "sns.set_context('talk', font_scale=0.9)\n",
    "\n",
    "import warnings\n",
    "warnings.filterwarnings(\"ignore\")"
   ]
  },
  {
   "cell_type": "code",
   "execution_count": 3,
   "id": "b8d4306f-6a77-4195-ad66-624b40571298",
   "metadata": {},
   "outputs": [],
   "source": [
    "dataset=pd.read_csv('./data/diabetes.csv')\n",
    "\n",
    "X=dataset.drop('outcome', axis=1)\n",
    "y=dataset['outcome']"
   ]
  },
  {
   "cell_type": "code",
   "execution_count": 4,
   "id": "e05b812b-fcc6-42d5-b5c1-d9c9712e10c5",
   "metadata": {},
   "outputs": [
    {
     "data": {
      "text/html": [
       "<div>\n",
       "<style scoped>\n",
       "    .dataframe tbody tr th:only-of-type {\n",
       "        vertical-align: middle;\n",
       "    }\n",
       "\n",
       "    .dataframe tbody tr th {\n",
       "        vertical-align: top;\n",
       "    }\n",
       "\n",
       "    .dataframe thead th {\n",
       "        text-align: right;\n",
       "    }\n",
       "</style>\n",
       "<table border=\"1\" class=\"dataframe\">\n",
       "  <thead>\n",
       "    <tr style=\"text-align: right;\">\n",
       "      <th></th>\n",
       "      <th>pregnancies</th>\n",
       "      <th>glucose</th>\n",
       "      <th>bloodpressure</th>\n",
       "      <th>skinthickness</th>\n",
       "      <th>insulin</th>\n",
       "      <th>bmi</th>\n",
       "      <th>diabetespedigreefunction</th>\n",
       "      <th>age</th>\n",
       "    </tr>\n",
       "  </thead>\n",
       "  <tbody>\n",
       "    <tr>\n",
       "      <th>0</th>\n",
       "      <td>6</td>\n",
       "      <td>148</td>\n",
       "      <td>72</td>\n",
       "      <td>35</td>\n",
       "      <td>30.5</td>\n",
       "      <td>33.6</td>\n",
       "      <td>0.627</td>\n",
       "      <td>50</td>\n",
       "    </tr>\n",
       "    <tr>\n",
       "      <th>1</th>\n",
       "      <td>1</td>\n",
       "      <td>85</td>\n",
       "      <td>66</td>\n",
       "      <td>29</td>\n",
       "      <td>30.5</td>\n",
       "      <td>26.6</td>\n",
       "      <td>0.351</td>\n",
       "      <td>31</td>\n",
       "    </tr>\n",
       "    <tr>\n",
       "      <th>2</th>\n",
       "      <td>8</td>\n",
       "      <td>183</td>\n",
       "      <td>64</td>\n",
       "      <td>23</td>\n",
       "      <td>30.5</td>\n",
       "      <td>23.3</td>\n",
       "      <td>0.672</td>\n",
       "      <td>32</td>\n",
       "    </tr>\n",
       "    <tr>\n",
       "      <th>3</th>\n",
       "      <td>1</td>\n",
       "      <td>89</td>\n",
       "      <td>66</td>\n",
       "      <td>23</td>\n",
       "      <td>94.0</td>\n",
       "      <td>28.1</td>\n",
       "      <td>0.167</td>\n",
       "      <td>21</td>\n",
       "    </tr>\n",
       "    <tr>\n",
       "      <th>4</th>\n",
       "      <td>0</td>\n",
       "      <td>137</td>\n",
       "      <td>40</td>\n",
       "      <td>35</td>\n",
       "      <td>168.0</td>\n",
       "      <td>43.1</td>\n",
       "      <td>2.288</td>\n",
       "      <td>33</td>\n",
       "    </tr>\n",
       "  </tbody>\n",
       "</table>\n",
       "</div>"
      ],
      "text/plain": [
       "   pregnancies  glucose  bloodpressure  skinthickness  insulin   bmi  \\\n",
       "0            6      148             72             35     30.5  33.6   \n",
       "1            1       85             66             29     30.5  26.6   \n",
       "2            8      183             64             23     30.5  23.3   \n",
       "3            1       89             66             23     94.0  28.1   \n",
       "4            0      137             40             35    168.0  43.1   \n",
       "\n",
       "   diabetespedigreefunction  age  \n",
       "0                     0.627   50  \n",
       "1                     0.351   31  \n",
       "2                     0.672   32  \n",
       "3                     0.167   21  \n",
       "4                     2.288   33  "
      ]
     },
     "execution_count": 4,
     "metadata": {},
     "output_type": "execute_result"
    }
   ],
   "source": [
    "X.head()"
   ]
  },
  {
   "cell_type": "markdown",
   "id": "916511b8-f3c2-416b-a119-55697413231f",
   "metadata": {},
   "source": [
    "The `outcome` class is imbalanced:"
   ]
  },
  {
   "cell_type": "code",
   "execution_count": 5,
   "id": "36c6f846-bd58-4fc9-9532-297fd9787391",
   "metadata": {},
   "outputs": [
    {
     "data": {
      "text/plain": [
       "0    500\n",
       "1    268\n",
       "Name: outcome, dtype: int64"
      ]
     },
     "execution_count": 5,
     "metadata": {},
     "output_type": "execute_result"
    }
   ],
   "source": [
    "y.value_counts()"
   ]
  },
  {
   "cell_type": "markdown",
   "id": "a3e51bd2-94ad-46b9-92ad-0374eb6a9fc6",
   "metadata": {},
   "source": [
    "The problem with imbalanced dataset is, that it creates a **bias**."
   ]
  },
  {
   "cell_type": "markdown",
   "id": "a0a7e27b-7b6d-4a1f-b275-500f028c4b03",
   "metadata": {},
   "source": [
    "### Upsampling\n",
    "\n",
    "Upsampling is the process of randomly duplicating observations from the minority class in order to reinforce its signal."
   ]
  },
  {
   "cell_type": "code",
   "execution_count": 6,
   "id": "d5316acf-4e52-4629-b3f5-b605a900dd5d",
   "metadata": {},
   "outputs": [
    {
     "data": {
      "text/plain": [
       "1    473\n",
       "0    473\n",
       "Name: outcome, dtype: int64"
      ]
     },
     "execution_count": 6,
     "metadata": {},
     "output_type": "execute_result"
    }
   ],
   "source": [
    "smote=SMOTETomek(random_state=42, n_jobs=-1)\n",
    "X_up, y_up = smote.fit_resample(X, y)\n",
    "y_up.value_counts()"
   ]
  },
  {
   "cell_type": "markdown",
   "id": "8377ff45-8791-49ce-afcf-5b79630d9546",
   "metadata": {},
   "source": [
    "## Create Model"
   ]
  },
  {
   "cell_type": "code",
   "execution_count": 7,
   "id": "4cb0f2be-3fe4-4f62-9130-7d645984f5c4",
   "metadata": {},
   "outputs": [
    {
     "data": {
      "text/plain": [
       "RandomForestClassifier(n_jobs=-1)"
      ]
     },
     "execution_count": 7,
     "metadata": {},
     "output_type": "execute_result"
    }
   ],
   "source": [
    "X_train, X_test, y_train, y_test = train_test_split(X_up, y_up, test_size=0.25)\n",
    "\n",
    "rf = RandomForestClassifier(n_jobs=-1)\n",
    "rf.fit(X_train, y_train)"
   ]
  },
  {
   "cell_type": "markdown",
   "id": "2d840423-a869-4fe0-ac33-924c9e1fea48",
   "metadata": {},
   "source": [
    "### Test Score"
   ]
  },
  {
   "cell_type": "code",
   "execution_count": 8,
   "id": "b204ee74-e5cd-400b-a9f3-7269965df6e7",
   "metadata": {},
   "outputs": [
    {
     "data": {
      "text/plain": [
       "array([0.79166667, 0.875     , 0.83333333, 0.70833333, 0.875     ,\n",
       "       0.75      , 0.75      , 0.7826087 , 0.82608696, 0.91304348])"
      ]
     },
     "execution_count": 8,
     "metadata": {},
     "output_type": "execute_result"
    }
   ],
   "source": [
    "score = cross_val_score(rf, X_test, y_test, cv=10, n_jobs=-1)\n",
    "score"
   ]
  },
  {
   "cell_type": "code",
   "execution_count": 9,
   "id": "e6f3d188-de86-4604-8a76-d2240844fea3",
   "metadata": {},
   "outputs": [
    {
     "data": {
      "text/plain": [
       "0.8105072463768115"
      ]
     },
     "execution_count": 9,
     "metadata": {},
     "output_type": "execute_result"
    }
   ],
   "source": [
    "score.mean()"
   ]
  },
  {
   "cell_type": "markdown",
   "id": "dce02fae-245b-42c3-915b-bd4683ccfda3",
   "metadata": {},
   "source": [
    "### Predictions"
   ]
  },
  {
   "cell_type": "code",
   "execution_count": 10,
   "id": "9d4624af-401f-4207-9eac-48d2af7ee052",
   "metadata": {},
   "outputs": [
    {
     "name": "stdout",
     "output_type": "stream",
     "text": [
      "              precision    recall  f1-score   support\n",
      "\n",
      "           0       0.85      0.81      0.83       115\n",
      "           1       0.83      0.86      0.84       122\n",
      "\n",
      "    accuracy                           0.84       237\n",
      "   macro avg       0.84      0.83      0.84       237\n",
      "weighted avg       0.84      0.84      0.84       237\n",
      "\n"
     ]
    }
   ],
   "source": [
    "print(classification_report(y_test, rf.predict(X_test)))"
   ]
  },
  {
   "cell_type": "code",
   "execution_count": 11,
   "id": "2510c467-4d74-469f-872f-a11a132a50df",
   "metadata": {},
   "outputs": [
    {
     "data": {
      "image/png": "[encoded data removed]",
      "text/plain": [
       "<Figure size 432x288 with 2 Axes>"
      ]
     },
     "metadata": {
      "needs_background": "light"
     },
     "output_type": "display_data"
    }
   ],
   "source": [
    "cf_matrix = confusion_matrix(y_test, rf.predict(X_test))\n",
    "ph.plot_confusion_matrix(cf_matrix)"
   ]
  },
  {
   "cell_type": "markdown",
   "id": "39a92d52-edb6-44bc-bea3-ea88e106e873",
   "metadata": {},
   "source": [
    "## Hyperparameter Tuning"
   ]
  },
  {
   "cell_type": "code",
   "execution_count": 12,
   "id": "7c2053e8-7d77-4ab0-a557-5b18a4ddddf2",
   "metadata": {},
   "outputs": [
    {
     "name": "stdout",
     "output_type": "stream",
     "text": [
      "{'n_estimators': [200, 400, 600, 800, 1000, 1200, 1400, 1600, 1800, 2000], 'max_features': ['auto', 'sqrt', 'log2'], 'max_depth': [10, 120, 230, 340, 450, 560, 670, 780, 890, 1000], 'min_samples_split': [2, 5, 10, 14], 'min_samples_leaf': [1, 2, 4, 6, 8], 'criterion': ['entropy', 'gini']}\n"
     ]
    }
   ],
   "source": [
    "# Number of trees in random forest\n",
    "n_estimators = [int(x) for x in np.linspace(start = 200, stop = 2000, num = 10)]\n",
    "\n",
    "# Number of features to consider at every split\n",
    "max_features = ['auto', 'sqrt', 'log2']\n",
    "\n",
    "# Maximum number of levels in tree\n",
    "max_depth = [int(x) for x in np.linspace(10, 1000,10)]\n",
    "\n",
    "# Minimum number of samples required to split a node\n",
    "min_samples_split = [2, 5, 10,14]\n",
    "\n",
    "# Minimum number of samples required at each leaf node\n",
    "min_samples_leaf = [1, 2, 4,6,8]\n",
    "\n",
    "# Create the random grid\n",
    "random_grid = {'n_estimators': n_estimators,\n",
    "               'max_features': max_features,\n",
    "               'max_depth': max_depth,\n",
    "               'min_samples_split': min_samples_split,\n",
    "               'min_samples_leaf': min_samples_leaf,\n",
    "               'criterion': ['entropy','gini']\n",
    "              }\n",
    "\n",
    "print(random_grid)"
   ]
  },
  {
   "cell_type": "code",
   "execution_count": 13,
   "id": "a381c9fd-2e04-44e7-8160-06ab918eb11e",
   "metadata": {},
   "outputs": [
    {
     "name": "stdout",
     "output_type": "stream",
     "text": [
      "Fitting 10 folds for each of 10 candidates, totalling 100 fits\n"
     ]
    },
    {
     "data": {
      "text/plain": [
       "RandomizedSearchCV(cv=10, estimator=RandomForestClassifier(n_jobs=-1),\n",
       "                   n_jobs=-1,\n",
       "                   param_distributions={'criterion': ['entropy', 'gini'],\n",
       "                                        'max_depth': [10, 120, 230, 340, 450,\n",
       "                                                      560, 670, 780, 890,\n",
       "                                                      1000],\n",
       "                                        'max_features': ['auto', 'sqrt',\n",
       "                                                         'log2'],\n",
       "                                        'min_samples_leaf': [1, 2, 4, 6, 8],\n",
       "                                        'min_samples_split': [2, 5, 10, 14],\n",
       "                                        'n_estimators': [200, 400, 600, 800,\n",
       "                                                         1000, 1200, 1400, 1600,\n",
       "                                                         1800, 2000]},\n",
       "                   verbose=2)"
      ]
     },
     "execution_count": 13,
     "metadata": {},
     "output_type": "execute_result"
    }
   ],
   "source": [
    "rs = RandomizedSearchCV(rf, random_grid, cv=10, verbose=2, n_jobs=-1)\n",
    "rs.fit(X_train, y_train)"
   ]
  },
  {
   "cell_type": "code",
   "execution_count": 14,
   "id": "f37c68a3-3089-4555-8d35-f7aacc6e940c",
   "metadata": {},
   "outputs": [
    {
     "data": {
      "text/plain": [
       "{'n_estimators': 1400,\n",
       " 'min_samples_split': 5,\n",
       " 'min_samples_leaf': 2,\n",
       " 'max_features': 'sqrt',\n",
       " 'max_depth': 450,\n",
       " 'criterion': 'gini'}"
      ]
     },
     "execution_count": 14,
     "metadata": {},
     "output_type": "execute_result"
    }
   ],
   "source": [
    "rs.best_params_"
   ]
  },
  {
   "cell_type": "code",
   "execution_count": 15,
   "id": "28a50a2b-0e71-4e76-8ca0-e7914a0a4c00",
   "metadata": {},
   "outputs": [
    {
     "name": "stdout",
     "output_type": "stream",
     "text": [
      "              precision    recall  f1-score   support\n",
      "\n",
      "           0       0.88      0.80      0.84       115\n",
      "           1       0.83      0.89      0.86       122\n",
      "\n",
      "    accuracy                           0.85       237\n",
      "   macro avg       0.85      0.85      0.85       237\n",
      "weighted avg       0.85      0.85      0.85       237\n",
      "\n"
     ]
    }
   ],
   "source": [
    "print(classification_report(y_test, rs.predict(X_test)))"
   ]
  },
  {
   "cell_type": "code",
   "execution_count": 16,
   "id": "27192367-9e46-4fcf-a1a2-91b6426594a6",
   "metadata": {},
   "outputs": [
    {
     "data": {
      "image/png": "[encoded data removed]",
      "text/plain": [
       "<Figure size 432x288 with 2 Axes>"
      ]
     },
     "metadata": {
      "needs_background": "light"
     },
     "output_type": "display_data"
    }
   ],
   "source": [
    "cf_matrix = confusion_matrix(y_test, rs.predict(X_test))\n",
    "ph.plot_confusion_matrix(cf_matrix)"
   ]
  },
  {
   "cell_type": "code",
   "execution_count": 17,
   "id": "23f69e02-da6e-4fd4-8a96-4b08b8fc8a49",
   "metadata": {},
   "outputs": [
    {
     "data": {
      "image/png": "[encoded data removed]",
      "text/plain": [
       "<Figure size 432x288 with 1 Axes>"
      ]
     },
     "metadata": {
      "needs_background": "light"
     },
     "output_type": "display_data"
    }
   ],
   "source": [
    "metrics.plot_roc_curve(rs, X_test, y_test);"
   ]
  },
  {
   "cell_type": "markdown",
   "id": "530bcdaa-8c34-42de-aa09-a8f125dfabd0",
   "metadata": {},
   "source": [
    "## Save Model"
   ]
  },
  {
   "cell_type": "code",
   "execution_count": 18,
   "id": "2cf3821c-52d9-4587-83b0-081cf1d8f11c",
   "metadata": {},
   "outputs": [
    {
     "name": "stdout",
     "output_type": "stream",
     "text": [
      "[CV] END criterion=gini, max_depth=230, max_features=log2, min_samples_leaf=2, min_samples_split=14, n_estimators=2000; total time=   8.9s\n",
      "[CV] END criterion=gini, max_depth=230, max_features=log2, min_samples_leaf=2, min_samples_split=14, n_estimators=2000; total time=  12.2s\n",
      "[CV] END criterion=entropy, max_depth=340, max_features=auto, min_samples_leaf=6, min_samples_split=10, n_estimators=600; total time=   2.8s\n",
      "[CV] END criterion=entropy, max_depth=230, max_features=auto, min_samples_leaf=2, min_samples_split=14, n_estimators=1400; total time=   5.4s\n",
      "[CV] END criterion=gini, max_depth=450, max_features=log2, min_samples_leaf=4, min_samples_split=10, n_estimators=400; total time=   1.5s\n",
      "[CV] END criterion=gini, max_depth=450, max_features=log2, min_samples_leaf=4, min_samples_split=10, n_estimators=400; total time=   1.5s\n",
      "[CV] END criterion=gini, max_depth=890, max_features=auto, min_samples_leaf=1, min_samples_split=10, n_estimators=400; total time=   1.5s\n",
      "[CV] END criterion=gini, max_depth=890, max_features=auto, min_samples_leaf=1, min_samples_split=10, n_estimators=400; total time=   1.5s\n",
      "[CV] END criterion=gini, max_depth=450, max_features=sqrt, min_samples_leaf=2, min_samples_split=5, n_estimators=1400; total time=   5.5s\n",
      "[CV] END criterion=gini, max_depth=450, max_features=sqrt, min_samples_leaf=2, min_samples_split=5, n_estimators=1400; total time=   6.3s\n",
      "[CV] END criterion=entropy, max_depth=340, max_features=log2, min_samples_leaf=2, min_samples_split=14, n_estimators=1600; total time=   7.1s\n",
      "[CV] END criterion=gini, max_depth=230, max_features=log2, min_samples_leaf=2, min_samples_split=14, n_estimators=2000; total time=   9.1s\n",
      "[CV] END criterion=gini, max_depth=10, max_features=log2, min_samples_leaf=6, min_samples_split=10, n_estimators=1200; total time=   5.5s\n",
      "[CV] END criterion=gini, max_depth=10, max_features=log2, min_samples_leaf=6, min_samples_split=10, n_estimators=1200; total time=   6.7s\n",
      "[CV] END criterion=entropy, max_depth=340, max_features=auto, min_samples_leaf=6, min_samples_split=10, n_estimators=600; total time=   2.6s\n",
      "[CV] END criterion=entropy, max_depth=230, max_features=auto, min_samples_leaf=2, min_samples_split=14, n_estimators=1400; total time=   5.6s\n",
      "[CV] END criterion=gini, max_depth=450, max_features=log2, min_samples_leaf=4, min_samples_split=10, n_estimators=400; total time=   1.5s\n",
      "[CV] END criterion=gini, max_depth=450, max_features=log2, min_samples_leaf=4, min_samples_split=10, n_estimators=400; total time=   1.5s\n",
      "[CV] END criterion=gini, max_depth=890, max_features=auto, min_samples_leaf=1, min_samples_split=10, n_estimators=400; total time=   1.7s\n",
      "[CV] END criterion=gini, max_depth=450, max_features=sqrt, min_samples_leaf=2, min_samples_split=5, n_estimators=1400; total time=   6.6s\n",
      "[CV] END criterion=gini, max_depth=450, max_features=sqrt, min_samples_leaf=2, min_samples_split=5, n_estimators=1400; total time=   6.5s\n",
      "[CV] END criterion=entropy, max_depth=340, max_features=log2, min_samples_leaf=2, min_samples_split=14, n_estimators=1600; total time=   7.2s\n",
      "[CV] END criterion=gini, max_depth=230, max_features=log2, min_samples_leaf=2, min_samples_split=14, n_estimators=2000; total time=   9.2s\n",
      "[CV] END criterion=gini, max_depth=10, max_features=log2, min_samples_leaf=6, min_samples_split=10, n_estimators=1200; total time=   5.4s\n",
      "[CV] END criterion=gini, max_depth=10, max_features=log2, min_samples_leaf=6, min_samples_split=10, n_estimators=1200; total time=   6.8s\n",
      "[CV] END criterion=entropy, max_depth=340, max_features=auto, min_samples_leaf=6, min_samples_split=10, n_estimators=600; total time=   2.6s\n",
      "[CV] END criterion=entropy, max_depth=230, max_features=auto, min_samples_leaf=2, min_samples_split=14, n_estimators=1400; total time=   6.5s\n",
      "[CV] END criterion=gini, max_depth=450, max_features=log2, min_samples_leaf=4, min_samples_split=10, n_estimators=400; total time=   1.8s\n",
      "[CV] END criterion=gini, max_depth=890, max_features=auto, min_samples_leaf=1, min_samples_split=10, n_estimators=400; total time=   1.6s\n",
      "[CV] END criterion=gini, max_depth=890, max_features=auto, min_samples_leaf=1, min_samples_split=10, n_estimators=400; total time=   1.5s\n",
      "[CV] END criterion=gini, max_depth=450, max_features=sqrt, min_samples_leaf=2, min_samples_split=5, n_estimators=1400; total time=   5.5s\n",
      "[CV] END criterion=gini, max_depth=1000, max_features=auto, min_samples_leaf=6, min_samples_split=14, n_estimators=200; total time=   1.0s\n",
      "[CV] END criterion=gini, max_depth=1000, max_features=auto, min_samples_leaf=6, min_samples_split=14, n_estimators=200; total time=   0.7s\n",
      "[CV] END criterion=gini, max_depth=780, max_features=auto, min_samples_leaf=6, min_samples_split=14, n_estimators=800; total time=   3.1s\n",
      "[CV] END criterion=gini, max_depth=780, max_features=auto, min_samples_leaf=6, min_samples_split=14, n_estimators=800; total time=   3.4s\n",
      "[CV] END criterion=entropy, max_depth=340, max_features=log2, min_samples_leaf=2, min_samples_split=14, n_estimators=1600; total time=   6.1s\n",
      "[CV] END criterion=gini, max_depth=230, max_features=log2, min_samples_leaf=2, min_samples_split=14, n_estimators=2000; total time=   9.1s\n",
      "[CV] END criterion=gini, max_depth=230, max_features=log2, min_samples_leaf=2, min_samples_split=14, n_estimators=2000; total time=  12.3s\n",
      "[CV] END criterion=entropy, max_depth=340, max_features=auto, min_samples_leaf=6, min_samples_split=10, n_estimators=600; total time=   2.7s\n",
      "[CV] END criterion=entropy, max_depth=230, max_features=auto, min_samples_leaf=2, min_samples_split=14, n_estimators=1400; total time=   5.4s\n",
      "[CV] END criterion=gini, max_depth=450, max_features=log2, min_samples_leaf=4, min_samples_split=10, n_estimators=400; total time=   1.6s\n",
      "[CV] END criterion=gini, max_depth=450, max_features=log2, min_samples_leaf=4, min_samples_split=10, n_estimators=400; total time=   1.7s\n",
      "[CV] END criterion=gini, max_depth=890, max_features=auto, min_samples_leaf=1, min_samples_split=10, n_estimators=400; total time=   2.0s\n",
      "[CV] END criterion=gini, max_depth=450, max_features=sqrt, min_samples_leaf=2, min_samples_split=5, n_estimators=1400; total time=   6.2s\n",
      "[CV] END criterion=gini, max_depth=1000, max_features=auto, min_samples_leaf=6, min_samples_split=14, n_estimators=200; total time=   1.0s\n",
      "[CV] END criterion=gini, max_depth=1000, max_features=auto, min_samples_leaf=6, min_samples_split=14, n_estimators=200; total time=   0.8s\n",
      "[CV] END criterion=gini, max_depth=780, max_features=auto, min_samples_leaf=6, min_samples_split=14, n_estimators=800; total time=   3.0s\n",
      "[CV] END criterion=gini, max_depth=780, max_features=auto, min_samples_leaf=6, min_samples_split=14, n_estimators=800; total time=   3.6s\n",
      "[CV] END criterion=entropy, max_depth=340, max_features=log2, min_samples_leaf=2, min_samples_split=14, n_estimators=1600; total time=   6.1s\n",
      "[CV] END criterion=gini, max_depth=230, max_features=log2, min_samples_leaf=2, min_samples_split=14, n_estimators=2000; total time=   9.1s\n",
      "[CV] END criterion=gini, max_depth=10, max_features=log2, min_samples_leaf=6, min_samples_split=10, n_estimators=1200; total time=   5.8s\n",
      "[CV] END criterion=entropy, max_depth=340, max_features=auto, min_samples_leaf=6, min_samples_split=10, n_estimators=600; total time=   2.7s\n",
      "[CV] END criterion=entropy, max_depth=340, max_features=auto, min_samples_leaf=6, min_samples_split=10, n_estimators=600; total time=   4.7s\n",
      "[CV] END criterion=entropy, max_depth=230, max_features=auto, min_samples_leaf=2, min_samples_split=14, n_estimators=1400; total time=   6.8s\n",
      "[CV] END criterion=entropy, max_depth=230, max_features=auto, min_samples_leaf=2, min_samples_split=14, n_estimators=1400; total time=   7.1s\n",
      "[CV] END criterion=gini, max_depth=450, max_features=sqrt, min_samples_leaf=2, min_samples_split=5, n_estimators=1400; total time=   7.1s\n",
      "[CV] END criterion=gini, max_depth=780, max_features=auto, min_samples_leaf=6, min_samples_split=14, n_estimators=800; total time=   3.2s\n",
      "[CV] END criterion=gini, max_depth=780, max_features=auto, min_samples_leaf=6, min_samples_split=14, n_estimators=800; total time=   3.4s\n",
      "[CV] END criterion=entropy, max_depth=340, max_features=log2, min_samples_leaf=2, min_samples_split=14, n_estimators=1600; total time=   6.2s\n",
      "[CV] END criterion=gini, max_depth=230, max_features=log2, min_samples_leaf=2, min_samples_split=14, n_estimators=2000; total time=   9.2s\n",
      "[CV] END criterion=gini, max_depth=10, max_features=log2, min_samples_leaf=6, min_samples_split=10, n_estimators=1200; total time=   5.4s\n",
      "[CV] END criterion=gini, max_depth=10, max_features=log2, min_samples_leaf=6, min_samples_split=10, n_estimators=1200; total time=   6.8s\n",
      "[CV] END criterion=entropy, max_depth=340, max_features=auto, min_samples_leaf=6, min_samples_split=10, n_estimators=600; total time=   2.5s\n",
      "[CV] END criterion=entropy, max_depth=230, max_features=auto, min_samples_leaf=2, min_samples_split=14, n_estimators=1400; total time=   5.6s\n",
      "[CV] END criterion=gini, max_depth=450, max_features=log2, min_samples_leaf=4, min_samples_split=10, n_estimators=400; total time=   1.5s\n",
      "[CV] END criterion=gini, max_depth=890, max_features=auto, min_samples_leaf=1, min_samples_split=10, n_estimators=400; total time=   2.1s\n",
      "[CV] END criterion=gini, max_depth=890, max_features=auto, min_samples_leaf=1, min_samples_split=10, n_estimators=400; total time=   2.0s\n",
      "[CV] END criterion=gini, max_depth=450, max_features=sqrt, min_samples_leaf=2, min_samples_split=5, n_estimators=1400; total time=   5.6s\n",
      "[CV] END criterion=gini, max_depth=1000, max_features=auto, min_samples_leaf=6, min_samples_split=14, n_estimators=200; total time=   1.0s\n",
      "[CV] END criterion=gini, max_depth=1000, max_features=auto, min_samples_leaf=6, min_samples_split=14, n_estimators=200; total time=   0.8s\n",
      "[CV] END criterion=gini, max_depth=780, max_features=auto, min_samples_leaf=6, min_samples_split=14, n_estimators=800; total time=   3.2s\n",
      "[CV] END criterion=gini, max_depth=780, max_features=auto, min_samples_leaf=6, min_samples_split=14, n_estimators=800; total time=   3.5s\n",
      "[CV] END criterion=entropy, max_depth=340, max_features=log2, min_samples_leaf=2, min_samples_split=14, n_estimators=1600; total time=   6.8s\n",
      "[CV] END criterion=gini, max_depth=230, max_features=log2, min_samples_leaf=2, min_samples_split=14, n_estimators=2000; total time=   9.2s\n",
      "[CV] END criterion=gini, max_depth=10, max_features=log2, min_samples_leaf=6, min_samples_split=10, n_estimators=1200; total time=   5.6s\n",
      "[CV] END criterion=entropy, max_depth=340, max_features=auto, min_samples_leaf=6, min_samples_split=10, n_estimators=600; total time=   2.7s\n",
      "[CV] END criterion=entropy, max_depth=340, max_features=auto, min_samples_leaf=6, min_samples_split=10, n_estimators=600; total time=   4.5s\n",
      "[CV] END criterion=entropy, max_depth=230, max_features=auto, min_samples_leaf=2, min_samples_split=14, n_estimators=1400; total time=   6.8s\n",
      "[CV] END criterion=entropy, max_depth=230, max_features=auto, min_samples_leaf=2, min_samples_split=14, n_estimators=1400; total time=   6.8s\n",
      "[CV] END criterion=gini, max_depth=450, max_features=sqrt, min_samples_leaf=2, min_samples_split=5, n_estimators=1400; total time=   5.7s\n",
      "[CV] END criterion=gini, max_depth=1000, max_features=auto, min_samples_leaf=6, min_samples_split=14, n_estimators=200; total time=   1.0s\n",
      "[CV] END criterion=gini, max_depth=1000, max_features=auto, min_samples_leaf=6, min_samples_split=14, n_estimators=200; total time=   0.9s\n",
      "[CV] END criterion=gini, max_depth=780, max_features=auto, min_samples_leaf=6, min_samples_split=14, n_estimators=800; total time=   3.6s\n",
      "[CV] END criterion=entropy, max_depth=340, max_features=log2, min_samples_leaf=2, min_samples_split=14, n_estimators=1600; total time=   7.5s\n",
      "[CV] END criterion=entropy, max_depth=340, max_features=log2, min_samples_leaf=2, min_samples_split=14, n_estimators=1600; total time=   4.0s\n",
      "[CV] END criterion=gini, max_depth=230, max_features=log2, min_samples_leaf=2, min_samples_split=14, n_estimators=2000; total time=   9.3s\n",
      "[CV] END criterion=gini, max_depth=10, max_features=log2, min_samples_leaf=6, min_samples_split=10, n_estimators=1200; total time=   5.5s\n",
      "[CV] END criterion=gini, max_depth=10, max_features=log2, min_samples_leaf=6, min_samples_split=10, n_estimators=1200; total time=   6.6s\n",
      "[CV] END criterion=entropy, max_depth=340, max_features=auto, min_samples_leaf=6, min_samples_split=10, n_estimators=600; total time=   2.5s\n",
      "[CV] END criterion=entropy, max_depth=230, max_features=auto, min_samples_leaf=2, min_samples_split=14, n_estimators=1400; total time=   5.4s\n",
      "[CV] END criterion=gini, max_depth=450, max_features=log2, min_samples_leaf=4, min_samples_split=10, n_estimators=400; total time=   1.5s\n",
      "[CV] END criterion=gini, max_depth=450, max_features=log2, min_samples_leaf=4, min_samples_split=10, n_estimators=400; total time=   1.5s\n",
      "[CV] END criterion=gini, max_depth=890, max_features=auto, min_samples_leaf=1, min_samples_split=10, n_estimators=400; total time=   1.7s\n",
      "[CV] END criterion=gini, max_depth=890, max_features=auto, min_samples_leaf=1, min_samples_split=10, n_estimators=400; total time=   1.5s\n",
      "[CV] END criterion=gini, max_depth=450, max_features=sqrt, min_samples_leaf=2, min_samples_split=5, n_estimators=1400; total time=   5.9s\n",
      "[CV] END criterion=gini, max_depth=1000, max_features=auto, min_samples_leaf=6, min_samples_split=14, n_estimators=200; total time=   1.0s\n",
      "[CV] END criterion=gini, max_depth=1000, max_features=auto, min_samples_leaf=6, min_samples_split=14, n_estimators=200; total time=   0.8s\n",
      "[CV] END criterion=gini, max_depth=780, max_features=auto, min_samples_leaf=6, min_samples_split=14, n_estimators=800; total time=   4.4s\n",
      "[CV] END criterion=entropy, max_depth=340, max_features=log2, min_samples_leaf=2, min_samples_split=14, n_estimators=1600; total time=   6.7s\n",
      "[CV] END criterion=entropy, max_depth=340, max_features=log2, min_samples_leaf=2, min_samples_split=14, n_estimators=1600; total time=   3.8s\n"
     ]
    }
   ],
   "source": [
    "model_file = open('model/model.pkl', 'wb')\n",
    "pickle.dump(rs, model_file)\n",
    "model_file.close()"
   ]
  },
  {
   "cell_type": "code",
   "execution_count": null,
   "id": "94b0393d-89ab-4feb-b1b7-09648a2fa61b",
   "metadata": {},
   "outputs": [],
   "source": []
  }
 ],
 "metadata": {
  "kernelspec": {
   "display_name": "Python 3 (ipykernel)",
   "language": "python",
   "name": "python3"
  },
  "language_info": {
   "codemirror_mode": {
    "name": "ipython",
    "version": 3
   },
   "file_extension": ".py",
   "mimetype": "text/x-python",
   "name": "python",
   "nbconvert_exporter": "python",
   "pygments_lexer": "ipython3",
   "version": "3.10.0"
  }
 },
 "nbformat": 4,
 "nbformat_minor": 5
}
